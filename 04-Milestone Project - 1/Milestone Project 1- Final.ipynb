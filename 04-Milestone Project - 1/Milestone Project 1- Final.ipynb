{
 "cells": [
  {
   "cell_type": "code",
   "execution_count": 8,
   "metadata": {},
   "outputs": [],
   "source": [
    "def check_game_status(): \n",
    "    gameStatus = str(input(\"would you like to play Tick-Tack-Toe ['Y','y','N','n'] \")).upper() \n",
    "    if gameStatus == 'Y': \n",
    "        return True\n",
    "    elif gameStatus == 'N':\n",
    "        return False \n",
    "    else: \n",
    "        print(\"Sorry you did not select 'Y' or 'N'\")"
   ]
  },
  {
   "cell_type": "code",
   "execution_count": 9,
   "metadata": {},
   "outputs": [],
   "source": [
    "def display_board(dictMoves, lst):\n",
    "    print(\"index numbers {} are the positions available to make a move\".format(lst))\n",
    "    print(\"        |        |        \")\n",
    "    print(\"   {}    |   {}    |   {}    \".format(dictMoves['1'],dictMoves['2'],dictMoves['3']))\n",
    "    print(\"________|________|________\")\n",
    " \n",
    "    print(\"        |        |        \")\n",
    "    print(\"   {}    |   {}    |   {}    \".format(dictMoves['4'],dictMoves['5'],dictMoves['6'])) \n",
    "    print(\"________|________|________\")\n",
    " \n",
    "    print(\"        |        |        \")\n",
    "    print(\"   {}    |   {}    |   {}   \".format(dictMoves['7'],dictMoves['8'],dictMoves['9']))\n",
    "    print(\"        |        |        \")"
   ]
  },
  {
   "cell_type": "code",
   "execution_count": 10,
   "metadata": {},
   "outputs": [],
   "source": [
    "def check_winner(dictMoves, symbol): \n",
    "    return ((dictMoves['1'] == symbol and dictMoves['2'] == symbol and dictMoves['3'] == symbol) or # across the top\n",
    "    (dictMoves['4'] == symbol and dictMoves['5'] == symbol and dictMoves['6'] == symbol) or # across the middle\n",
    "    (dictMoves['7'] == symbol and dictMoves['8'] == symbol and dictMoves['9'] == symbol) or # across the bottom\n",
    "    (dictMoves['2'] == symbol and dictMoves['5'] == symbol and dictMoves['8'] == symbol) or # down the middle\n",
    "    (dictMoves['4'] == symbol and dictMoves['5'] == symbol and dictMoves['6'] == symbol) or # down the middle\n",
    "    (dictMoves['1'] == symbol and dictMoves['4'] == symbol and dictMoves['7'] == symbol) or # down the left side\n",
    "    (dictMoves['3'] == symbol and dictMoves['6'] == symbol and dictMoves['9'] == symbol) or # down the right side\n",
    "    (dictMoves['1'] == symbol and dictMoves['5'] == symbol and dictMoves['9'] == symbol) or # diagonal\n",
    "    (dictMoves['1'] == symbol and dictMoves['5'] == symbol and dictMoves['9'] == symbol) or # diagonal\n",
    "    (dictMoves['3'] == symbol and dictMoves['5'] == symbol and dictMoves['7'] == symbol)) # diagonal"
   ]
  },
  {
   "cell_type": "code",
   "execution_count": 11,
   "metadata": {},
   "outputs": [
    {
     "name": "stdout",
     "output_type": "stream",
     "text": [
      "False\n"
     ]
    }
   ],
   "source": [
    "symbol = 'O'\n",
    "#dictMoves = {'1':'X','2':'O','3':'X', '4':'O','5':'O', '6':'O', '7':'O', '8':8, '9':9}\n",
    "dictMoves = {'1':1,'2':2,'3':3, '4':4,'5':5, '6':6, '7':7, '8':8, '9':9}\n",
    "print(check_winner(dictMoves, symbol))"
   ]
  },
  {
   "cell_type": "code",
   "execution_count": 12,
   "metadata": {},
   "outputs": [],
   "source": [
    "def player_moves(name, dictMoves,mark,lst):\n",
    "    moveValue= input('{}, where would you like to play {}'.format(name, lst))\n",
    "    print('{} you have selected index position {} in the array to make your move'.format(name, moveValue))\n",
    "    if moveValue not in lst: \n",
    "        print('You did not enter a valid position') \n",
    "    else: \n",
    "        dictMoves[moveValue]= mark \n",
    "        lst.remove(moveValue)\n",
    "        return dictMoves "
   ]
  },
  {
   "cell_type": "code",
   "execution_count": 13,
   "metadata": {},
   "outputs": [],
   "source": [
    "def main_game_function(): \n",
    "    while check_game_status(): \n",
    "        name1= str(input(\"Player 1, what's your name \"))\n",
    "        name2= str(input(\"Player 2, what's your name \"))\n",
    "        mark= str(input(\"{}, would you like to be 'O' or 'X' \".format(name1))).upper()\n",
    "        dictMoves = {'1':1,'2':2,'3':3, '4':4,'5':5, '6':6, '7':7, '8':8, '9':9}\n",
    "        lst= [str(x) for x in range(1,10)]\n",
    "\n",
    "        if mark in ['O','X']: \n",
    "            if mark == 'O': \n",
    "                rule = {name1:'O',name2:'X'}\n",
    "                print('{} you make the first move because you are {}'.format(name1,rule[name1]))\n",
    "                print('{} you are {} and will go next'.format(name2,rule[name2]))\n",
    "                turnCount=True\n",
    "            else: \n",
    "                rule = {name1:'X',name2:'O'}\n",
    "                print('{} you make the first move because you are {}'.format(name2, rule[name2]))\n",
    "                print('{} you are {} and will go next'.format(name1,rule[name1]))\n",
    "                turnCount=False\n",
    "\n",
    "        display_board(dictMoves,lst) \n",
    "\n",
    "        while check_winner(dictMoves,rule[name1]) == False and check_winner(dictMoves, rule[name2]) == False: \n",
    "            if turnCount == True: \n",
    "                name= name1 \n",
    "                dictMoves= player_moves(name,dictMoves,rule[name1],lst)\n",
    "                display_board(dictMoves,lst) \n",
    "                turnCount=False\n",
    "            else : \n",
    "                display_board(dictMoves,lst)\n",
    "                name= name2\n",
    "                dictMoves= player_moves(name,dictMoves,rule[name2],lst)\n",
    "                display_board(dictMoves,lst) \n",
    "                turnCount=True\n",
    "\n",
    "        if check_winner(dictMoves, rule[name1]) == True: \n",
    "            print('{} you are the winner'.format(name1))\n",
    "\n",
    "        else: \n",
    "            print('{} you are the winner'.format(name2))\n",
    "        \n",
    "        check_game_status()"
   ]
  },
  {
   "cell_type": "code",
   "execution_count": 14,
   "metadata": {},
   "outputs": [
    {
     "name": "stdout",
     "output_type": "stream",
     "text": [
      "Sorry you did not select 'Y' or 'N'\n"
     ]
    }
   ],
   "source": [
    "main_game_function() "
   ]
  }
 ],
 "metadata": {
  "interpreter": {
   "hash": "c7118b647d8aee2f8c09effbe5401c08cfa1b0b54a052ea455fdde2a36cad5c3"
  },
  "kernelspec": {
   "display_name": "Python 3.9.7 64-bit ('base': conda)",
   "language": "python",
   "name": "python3"
  },
  "language_info": {
   "codemirror_mode": {
    "name": "ipython",
    "version": 3
   },
   "file_extension": ".py",
   "mimetype": "text/x-python",
   "name": "python",
   "nbconvert_exporter": "python",
   "pygments_lexer": "ipython3",
   "version": "3.9.7"
  },
  "orig_nbformat": 4
 },
 "nbformat": 4,
 "nbformat_minor": 2
}
